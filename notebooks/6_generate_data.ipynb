{
 "cells": [
  {
   "cell_type": "markdown",
   "metadata": {},
   "source": [
    "# Generate synthetic test set"
   ]
  },
  {
   "cell_type": "markdown",
   "metadata": {},
   "source": [
    "## Import libraries"
   ]
  },
  {
   "cell_type": "code",
   "execution_count": null,
   "metadata": {},
   "outputs": [],
   "source": [
    "import os, sys\n",
    "\n",
    "sys.path.append(os.path.join(os.getcwd(), '..'))\n",
    "sys.path.append(os.path.join(os.getcwd(), '../src'))"
   ]
  },
  {
   "cell_type": "code",
   "execution_count": null,
   "metadata": {},
   "outputs": [],
   "source": [
    "from dotenv import load_dotenv\n",
    "\n",
    "from ragas.testset.generator import TestsetGenerator\n",
    "from ragas.testset.evolutions import simple, reasoning, multi_context\n",
    "\n",
    "from langchain_groq import ChatGroq\n",
    "from langchain_cohere import CohereEmbeddings\n",
    "from langchain_core.rate_limiters import InMemoryRateLimiter\n",
    "\n",
    "from src.vectorstore import PineconeVectorDB"
   ]
  },
  {
   "cell_type": "code",
   "execution_count": null,
   "metadata": {},
   "outputs": [],
   "source": [
    "load_dotenv()"
   ]
  },
  {
   "cell_type": "markdown",
   "metadata": {},
   "source": [
    "## Generation"
   ]
  },
  {
   "cell_type": "markdown",
   "metadata": {},
   "source": [
    "### Load documents"
   ]
  },
  {
   "cell_type": "code",
   "execution_count": null,
   "metadata": {},
   "outputs": [],
   "source": [
    "vector_db = PineconeVectorDB(\n",
    "    index_name=os.getenv('PINECONE_INDEX'),\n",
    "    embedding=CohereEmbeddings(model='embed-multilingual-v3.0')\n",
    ")\n",
    "\n",
    "vector_store = vector_db.get_vectorstore()"
   ]
  },
  {
   "cell_type": "code",
   "execution_count": null,
   "metadata": {},
   "outputs": [],
   "source": [
    "sample_question = 'Hãy giới thiệu về trường Đại học Khoa học Tự nhiên TP.HCM?'\n",
    "N = 10000 # set it to be large to get all documents in vectorstore\n",
    "knowledge_base = vector_store.similarity_search(sample_question, k=N)"
   ]
  },
  {
   "cell_type": "markdown",
   "metadata": {},
   "source": [
    "### Generate data"
   ]
  },
  {
   "cell_type": "code",
   "execution_count": null,
   "metadata": {},
   "outputs": [],
   "source": [
    "limiter = InMemoryRateLimiter(\n",
    "    requests_per_second=0.3,\n",
    "    check_every_n_seconds=0.1,\n",
    "    max_bucket_size=30\n",
    ")\n",
    "\n",
    "generator_llm = ChatGroq(model=\"llama3-70b-8192\", rate_limiter=limiter, max_retries=3)\n",
    "critic_llm = ChatGroq(model=\"llama3-8b-8192\", rate_limiter=limiter, max_retries=3)\n",
    "embedding = CohereEmbeddings(model='embed-multilingual-v3.0', max_retries=10)"
   ]
  },
  {
   "cell_type": "code",
   "execution_count": 8,
   "metadata": {},
   "outputs": [],
   "source": [
    "generator = TestsetGenerator.from_langchain(\n",
    "    generator_llm,\n",
    "    critic_llm,\n",
    "    embedding\n",
    ")\n",
    "\n",
    "testset = []\n",
    "batch_size = 2\n",
    "for i in range(0, len(knowledge_base)):\n",
    "    sub_testset = generator.generate_with_langchain_docs(\n",
    "        documents=[knowledge_base[i]], test_size=10,\n",
    "        distributions={simple: 0.5, reasoning: 0.3, multi_context: 0.2}\n",
    "    )\n",
    "    testset.append(sub_testset)"
   ]
  }
 ],
 "metadata": {
  "kernelspec": {
   "display_name": ".venv",
   "language": "python",
   "name": "python3"
  },
  "language_info": {
   "codemirror_mode": {
    "name": "ipython",
    "version": 3
   },
   "file_extension": ".py",
   "mimetype": "text/x-python",
   "name": "python",
   "nbconvert_exporter": "python",
   "pygments_lexer": "ipython3",
   "version": "3.12.4"
  }
 },
 "nbformat": 4,
 "nbformat_minor": 2
}
