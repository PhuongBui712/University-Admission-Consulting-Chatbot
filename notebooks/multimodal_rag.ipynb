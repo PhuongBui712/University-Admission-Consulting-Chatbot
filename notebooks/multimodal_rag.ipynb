{
 "cells": [
  {
   "cell_type": "markdown",
   "metadata": {},
   "source": [
    "## Import libraries"
   ]
  },
  {
   "cell_type": "code",
   "execution_count": null,
   "metadata": {},
   "outputs": [],
   "source": [
    "import os, sys\n",
    "\n",
    "sys.path.append(os.path.abspath(os.path.join(os.getcwd(), '..')))"
   ]
  },
  {
   "cell_type": "code",
   "execution_count": 1,
   "metadata": {
    "ExecuteTime": {
     "end_time": "2024-06-15T20:23:21.768344Z",
     "start_time": "2024-06-15T20:23:21.747902Z"
    }
   },
   "outputs": [],
   "source": [
    "from dotenv import load_dotenv\n",
    "from typing import List\n",
    "\n",
    "from langchain_core.language_models.chat_models import BaseChatModel\n",
    "from langchain_core.retrievers import BaseRetriever\n",
    "from langchain_core.documents.compressor import BaseDocumentCompressor\n",
    "\n",
    "from langchain_google_genai import ChatGoogleGenerativeAI\n",
    "from langchain_cohere import CohereRerank, CohereEmbeddings\n",
    "from langchain_core.documents import Document\n",
    "from langchain_core.messages import HumanMessage\n",
    "from langchain_core.runnables import RunnablePassthrough, RunnableLambda\n",
    "from langchain_core.output_parsers.string import StrOutputParser\n",
    "from langchain_chroma import Chroma\n",
    "from langchain.storage import LocalFileStore\n",
    "from langchain.retrievers.multi_vector import MultiVectorRetriever\n",
    "\n",
    "from src.prompts import ADMISSION_CONSULTANT_PROMPT\n",
    "from src.utils import get_image_type"
   ]
  },
  {
   "cell_type": "code",
   "execution_count": 2,
   "metadata": {
    "ExecuteTime": {
     "end_time": "2024-06-15T12:32:08.966802Z",
     "start_time": "2024-06-15T12:32:08.962992Z"
    }
   },
   "outputs": [
    {
     "data": {
      "text/plain": [
       "True"
      ]
     },
     "execution_count": 2,
     "metadata": {},
     "output_type": "execute_result"
    }
   ],
   "source": [
    "load_dotenv()"
   ]
  },
  {
   "cell_type": "markdown",
   "metadata": {},
   "source": [
    "## Setup chains"
   ]
  },
  {
   "cell_type": "markdown",
   "metadata": {},
   "source": [
    "Multi-vector retriever"
   ]
  },
  {
   "cell_type": "code",
   "execution_count": 3,
   "metadata": {},
   "outputs": [],
   "source": [
    "vectorstore = Chroma(\n",
    "    collection_name='multimodal',\n",
    "    collection_metadata={'hnsw:space': 'cosine'},\n",
    "    embedding_function=CohereEmbeddings(model='embed-multilingual-v3.0'),\n",
    "    persist_directory=os.path.join(os.getcwd(), '../database')\n",
    ")\n",
    "\n",
    "store = LocalFileStore(root_path=os.path.abspath(os.path.join(os.getcwd(), '../database/docstore')))\n",
    "\n",
    "id_key = \"doc_id\"\n",
    "\n",
    "multivector_retriever = MultiVectorRetriever(\n",
    "    vectorstore=vectorstore,\n",
    "    docstore=store,\n",
    "    id_key=id_key,\n",
    "    search_type='similarity',\n",
    "    search_kwargs={'k':15}\n",
    ")"
   ]
  },
  {
   "cell_type": "markdown",
   "metadata": {},
   "source": [
    "Reranker"
   ]
  },
  {
   "cell_type": "code",
   "execution_count": 4,
   "metadata": {},
   "outputs": [],
   "source": [
    "reranker = CohereRerank(model='rerank-multilingual-v3.0')"
   ]
  },
  {
   "cell_type": "markdown",
   "metadata": {},
   "source": [
    "RAG class"
   ]
  },
  {
   "cell_type": "code",
   "execution_count": null,
   "metadata": {},
   "outputs": [],
   "source": [
    "class RAG:\n",
    "    def __init__(self,\n",
    "                 chat_model: BaseChatModel,\n",
    "                 multivector_retriever: BaseRetriever,\n",
    "                 reranker: BaseDocumentCompressor,\n",
    "                 num_retrieved_docs: int = 5,\n",
    "                 compress_docs: bool = False):\n",
    "        \n",
    "        self.chat_model = chat_model\n",
    "        self.multivector_retriever = multivector_retriever\n",
    "        self.reranker = reranker\n",
    "        self.num_retrieved_docs = num_retrieved_docs\n",
    "        self.reorder_method = self._compress_documents if compress_docs else self._rerank_documents\n",
    "\n",
    "    def get_chain(self):\n",
    "        chain = (\n",
    "            {\n",
    "                'context': \n",
    "                    self.multivector_retriever \n",
    "                    | RunnableLambda(self._parse_retrieved_context) \n",
    "                    | RunnableLambda(self._split_text_image_content),\n",
    "                'question': RunnablePassthrough()\n",
    "            }\n",
    "            | RunnableLambda(self.reorder_method)\n",
    "            | RunnableLambda(self._create_prompt)\n",
    "            | self.chat_model\n",
    "            | StrOutputParser()\n",
    "        )\n",
    "\n",
    "        return chain\n",
    "    \n",
    "    def _parse_retrieved_context(self, context: List[bytes]):\n",
    "        return [Document.parse_raw(b) for b in context]\n",
    "\n",
    "    def _split_text_image_content(self, retrieved_docs: List[Document]):\n",
    "        texts = []\n",
    "        b64_images = []\n",
    "        for i, doc in enumerate(retrieved_docs):\n",
    "            if doc.metadata.get('type') == 'image':\n",
    "                b64_images.append(doc.page_content)\n",
    "            else:\n",
    "                texts.append(doc)\n",
    "\n",
    "        return {'texts': texts, 'images': b64_images}\n",
    "    \n",
    "    def _compress_documents(self, data_dict: dict):\n",
    "        compressed_texts = self.reranker.compress_documents(documents=data_dict['context']['texts'], query=data_dict['question'])\n",
    "        data_dict['context']['texts'] = compressed_texts[:self.num_retrieved_docs]\n",
    "\n",
    "        return data_dict\n",
    "\n",
    "    def _rerank_documents(self, data_dict: dict):\n",
    "        try:\n",
    "            rank = self.reranker.rerank(documents=data_dict['context']['texts'], query=data_dict['question'])\n",
    "            rank = [r['index'] for r in rank[:self.num_retrieved_docs]]\n",
    "            data_dict['context']['texts'] = [data_dict['context']['text'][i] for i in rank]\n",
    "\n",
    "            return data_dict\n",
    "\n",
    "        except:\n",
    "            return self._compress_documents(data_dict)\n",
    "\n",
    "    def _create_prompt(self, data_dict: dict):\n",
    "        context = '\\n\\n'.join([text.page_content for text in data_dict['context']['texts']])\n",
    "        message = [\n",
    "            {\n",
    "                'type': 'text',\n",
    "                'text': ADMISSION_CONSULTANT_PROMPT.format(context, data_dict['question'])\n",
    "            }\n",
    "        ]\n",
    "\n",
    "        if data_dict['context']['images']:\n",
    "            for image in data_dict['context']['images']:\n",
    "                message.append(\n",
    "                    {\n",
    "                        'type': 'image_url',\n",
    "                        'image_url': {'url': f'data:image/{get_image_type(image)};base64,{image}'}\n",
    "                    }\n",
    "                )\n",
    "                \n",
    "        return [HumanMessage(content=message)]"
   ]
  },
  {
   "cell_type": "code",
   "execution_count": 5,
   "metadata": {},
   "outputs": [],
   "source": [
    "def parse_retrieved_context(context: List[bytes]):\n",
    "    return [Document.parse_raw(b) for b in context]\n",
    "\n",
    "def split_text_image_content(retrieved_docs: List[Document]):\n",
    "    texts = []\n",
    "    b64_images = []\n",
    "    for i, doc in enumerate(retrieved_docs):\n",
    "        if doc.metadata.get('type') == 'image':\n",
    "            b64_images.append(doc.page_content)\n",
    "        else:\n",
    "            texts.append(doc)\n",
    "\n",
    "    return {'texts': texts, 'images': b64_images}\n",
    "\n",
    "def compress_documents(data_dict: dict):\n",
    "    reranker = CohereRerank(model='rerank-multilingual-v3.0')\n",
    "    compressed_texts = reranker.compress_documents(documents=data_dict['context']['texts'], query=data_dict['question'])\n",
    "    data_dict['context']['texts'] = compressed_texts[:5]\n",
    "\n",
    "    return data_dict"
   ]
  },
  {
   "cell_type": "markdown",
   "metadata": {},
   "source": [
    "Chain"
   ]
  },
  {
   "cell_type": "code",
   "execution_count": 7,
   "metadata": {},
   "outputs": [],
   "source": [
    "rag = RAG(chat_model=ChatGoogleGenerativeAI(model='gemini-1.5-flash-latest'),\n",
    "          multivector_retriever=multivector_retriever,\n",
    "          reranker=reranker,\n",
    "          compress_docs=False)\n",
    "\n",
    "chain = rag.get_chain()"
   ]
  },
  {
   "cell_type": "code",
   "execution_count": 8,
   "metadata": {},
   "outputs": [
    {
     "data": {
      "text/plain": [
       "'Trường có hai cơ sở: \\n- Cơ sở chính: Khu đô thị ĐH Quốc gia, Khu phố 6, phường Linh Trung, TP. Thủ Đức, TP.HCM.\\n- Cơ sở 2: 227 Nguyễn Văn Cừ, Q5, Tp.HCM.'"
      ]
     },
     "execution_count": 8,
     "metadata": {},
     "output_type": "execute_result"
    }
   ],
   "source": [
    "chain.invoke('Trường có bao nhiêu cơ sở?')"
   ]
  }
 ],
 "metadata": {
  "kernelspec": {
   "display_name": ".venv",
   "language": "python",
   "name": "python3"
  },
  "language_info": {
   "codemirror_mode": {
    "name": "ipython",
    "version": 3
   },
   "file_extension": ".py",
   "mimetype": "text/x-python",
   "name": "python",
   "nbconvert_exporter": "python",
   "pygments_lexer": "ipython3",
   "version": "3.12.0"
  }
 },
 "nbformat": 4,
 "nbformat_minor": 2
}
