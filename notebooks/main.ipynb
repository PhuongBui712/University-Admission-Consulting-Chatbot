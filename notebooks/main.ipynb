{
 "cells": [
  {
   "cell_type": "code",
   "execution_count": null,
   "id": "initial_id",
   "metadata": {
    "ExecuteTime": {
     "end_time": "2024-05-28T21:15:07.041664Z",
     "start_time": "2024-05-28T21:15:06.125223Z"
    },
    "collapsed": true
   },
   "source": [
    "import os, sys\n",
    "sys.path.append(os.path.abspath(os.path.join(os.getcwd(), '..')))\n",
    "\n",
    "from dotenv import load_dotenv\n",
    "from langchain_cohere import CohereRerank, CohereEmbeddings\n",
    "from langchain.retrievers import MultiVectorRetriever\n",
    "from langchain_google_genai import ChatGoogleGenerativeAI\n",
    "from langchain_chroma import Chroma\n",
    "from langchain_community.storage import MongoDBStore\n",
    "from langsmith import Client\n",
    "\n",
    "from src.rag_chain import RAG\n",
    "from src.vectorstore import ChromaVectorDB"
   ],
   "outputs": []
  },
  {
   "cell_type": "code",
   "execution_count": null,
   "id": "912960dda243749d",
   "metadata": {
    "ExecuteTime": {
     "end_time": "2024-05-28T21:15:07.047849Z",
     "start_time": "2024-05-28T21:15:07.042699Z"
    }
   },
   "source": [
    "from dotenv import load_dotenv\n",
    "load_dotenv()"
   ],
   "outputs": []
  },
  {
   "cell_type": "markdown",
   "id": "6c4654890ffd9bb5",
   "metadata": {},
   "source": "## Chaining"
  },
  {
   "metadata": {},
   "cell_type": "markdown",
   "source": "**Tracking with LangSmith**",
   "id": "6a5ad19827a56688"
  },
  {
   "cell_type": "code",
   "execution_count": null,
   "id": "194369d5dd1b7b02",
   "metadata": {
    "ExecuteTime": {
     "end_time": "2024-05-28T21:15:08.376065Z",
     "start_time": "2024-05-28T21:15:08.370224Z"
    }
   },
   "source": "client = Client()",
   "outputs": []
  },
  {
   "metadata": {},
   "cell_type": "markdown",
   "source": "**Run RAG**",
   "id": "756532dd694eeb8c"
  },
  {
   "metadata": {},
   "cell_type": "code",
   "outputs": [],
   "execution_count": null,
   "source": "data_path = os.path.abspath(os.path.join(os.path.dirname(__file__), '../database'))",
   "id": "86f613334f59c02a"
  },
  {
   "cell_type": "code",
   "execution_count": null,
   "id": "8df625a336871f41",
   "metadata": {
    "ExecuteTime": {
     "end_time": "2024-05-28T21:15:19.145356Z",
     "start_time": "2024-05-28T21:15:08.376839Z"
    }
   },
   "source": [
    "vector_db = ChromaVectorDB(\n",
    "    collection_name='multimodal',\n",
    "    embedding=CohereEmbeddings(model='embed-multilingual-v3.0'),\n",
    "    metric='cosine',\n",
    "    persist_directory=data_path\n",
    ")"
   ],
   "outputs": []
  },
  {
   "cell_type": "code",
   "execution_count": null,
   "id": "352fd03e14ee0281",
   "metadata": {
    "ExecuteTime": {
     "end_time": "2024-05-28T21:15:35.011393Z",
     "start_time": "2024-05-28T21:15:19.146397Z"
    }
   },
   "source": [
    "multivector_retriever = MultiVectorRetriever(\n",
    "    vectorstore=vector_db.get_vectorstore(),\n",
    "    docstore=store,\n",
    "    id_key='doc_id',\n",
    "    search_type='similarity',\n",
    "    search_kwargs={'k': 10}\n",
    ")"
   ],
   "outputs": []
  },
  {
   "cell_type": "code",
   "execution_count": null,
   "id": "7ddf64cdca6ef61a",
   "metadata": {
    "ExecuteTime": {
     "end_time": "2024-05-28T21:15:36.752038Z",
     "start_time": "2024-05-28T21:15:35.012136Z"
    }
   },
   "source": "reranker = CohereRerank(model='rerank-multilingual-v3.0')",
   "outputs": []
  },
  {
   "cell_type": "code",
   "execution_count": null,
   "id": "57f103277908c59a",
   "metadata": {
    "ExecuteTime": {
     "end_time": "2024-05-28T21:15:39.763184Z",
     "start_time": "2024-05-28T21:15:36.752715Z"
    }
   },
   "source": [
    "chain = RAG(\n",
    "    chat_model=ChatGoogleGenerativeAI(model='gemini-1.5-flash-latest'),\n",
    "    multivector_retriever=multivector_retriever,\n",
    "    reranker=reranker,\n",
    "    num_retrieved_docs=5,\n",
    "    compress_docs=False\n",
    ")\n",
    "chain = chain.get_chain()"
   ],
   "outputs": []
  },
  {
   "cell_type": "code",
   "execution_count": null,
   "id": "79c63239e7ecc2e3",
   "metadata": {
    "ExecuteTime": {
     "end_time": "2024-05-28T21:16:31.333764Z",
     "start_time": "2024-05-28T21:15:39.764789Z"
    }
   },
   "source": [
    "user_input = None\n",
    "while True:\n",
    "    user_input = input('Input: ')\n",
    "    if user_input == '\\\\exit':\n",
    "        break\n",
    "    print(chain.invoke(user_input))"
   ],
   "outputs": []
  }
 ],
 "metadata": {
  "kernelspec": {
   "display_name": "Python 3",
   "language": "python",
   "name": "python3"
  },
  "language_info": {
   "codemirror_mode": {
    "name": "ipython",
    "version": 3
   },
   "file_extension": ".py",
   "mimetype": "text/x-python",
   "name": "python",
   "nbconvert_exporter": "python",
   "pygments_lexer": "ipython3",
   "version": "3.12.0"
  }
 },
 "nbformat": 4,
 "nbformat_minor": 5
}
