{
 "cells": [
  {
   "cell_type": "markdown",
   "metadata": {},
   "source": [
    "## Import libraries"
   ]
  },
  {
   "cell_type": "code",
   "execution_count": 1,
   "metadata": {},
   "outputs": [],
   "source": [
    "import os, sys\n",
    "\n",
    "sys.path.append(os.path.abspath(os.path.join(os.getcwd(), '..')))"
   ]
  },
  {
   "cell_type": "code",
   "execution_count": 2,
   "metadata": {
    "ExecuteTime": {
     "end_time": "2024-06-15T20:23:21.768344Z",
     "start_time": "2024-06-15T20:23:21.747902Z"
    }
   },
   "outputs": [],
   "source": [
    "import json\n",
    "import uuid\n",
    "import base64\n",
    "from hashlib import sha256\n",
    "from tqdm.auto import tqdm\n",
    "from typing import List, Union\n",
    "from dotenv import load_dotenv\n",
    "from IPython.display import Image\n",
    "\n",
    "from langchain_google_genai import GoogleGenerativeAI\n",
    "from langchain_cohere import CohereEmbeddings\n",
    "from langchain_core.prompts import PromptTemplate\n",
    "from langchain_core.documents import Document\n",
    "from langchain_core.messages import AIMessage\n",
    "from langchain_core.runnables import RunnableLambda\n",
    "from langchain_core.output_parsers.string import StrOutputParser\n",
    "from langchain_chroma import Chroma\n",
    "from langchain.indexes import SQLRecordManager, index\n",
    "from langchain.storage import LocalFileStore\n",
    "from langchain.retrievers.multi_vector import MultiVectorRetriever\n",
    "\n",
    "\n",
    "from src.scraper.scrape import crawl\n",
    "from src.prompts import TEXT_SUMMARIZE_PROMPT, IMAGE_SUMMARIZE_PROMPT\n",
    "from src.image_extractor import (\n",
    "    GeminiImageExtractor,\n",
    "    get_image,\n",
    "    encode_image\n",
    ")\n",
    "from src.agent_chunking import GeminiChunker\n",
    "from src.embedding import GeminiEmbedding\n",
    "from src.utils import load_json, write_json"
   ]
  },
  {
   "cell_type": "code",
   "execution_count": 3,
   "metadata": {
    "ExecuteTime": {
     "end_time": "2024-06-15T12:32:08.966802Z",
     "start_time": "2024-06-15T12:32:08.962992Z"
    }
   },
   "outputs": [
    {
     "data": {
      "text/plain": [
       "True"
      ]
     },
     "execution_count": 3,
     "metadata": {},
     "output_type": "execute_result"
    }
   ],
   "source": [
    "load_dotenv()"
   ]
  },
  {
   "cell_type": "markdown",
   "metadata": {},
   "source": [
    "## Crawl"
   ]
  },
  {
   "cell_type": "markdown",
   "metadata": {},
   "source": [
    "This is the crawling data code, uncomment and run it if this is the first time running code. Or check the `data/tmp_docs.json` data"
   ]
  },
  {
   "cell_type": "code",
   "execution_count": 4,
   "metadata": {
    "ExecuteTime": {
     "end_time": "2024-06-15T12:32:08.969083Z",
     "start_time": "2024-06-15T12:32:08.967480Z"
    }
   },
   "outputs": [],
   "source": [
    "# data_dict = crawl()"
   ]
  },
  {
   "cell_type": "code",
   "execution_count": 5,
   "metadata": {},
   "outputs": [],
   "source": [
    "# with open(os.path.join(os.getcwd(), '../data/tmp_data.json'), 'w', encoding='utf-8') as f:\n",
    "#     json.dump(data_dict, f, ensure_ascii=False, indent=4)"
   ]
  },
  {
   "cell_type": "code",
   "execution_count": 6,
   "metadata": {},
   "outputs": [],
   "source": [
    "# # convert raw text to Document\n",
    "# texts = [Document(page_content=v['text'], metadata={'source': k, 'title': v['title']}) for k, v in data_dict.items()]\n",
    "\n",
    "# # convert raw table to Document\n",
    "# tables = []\n",
    "# for k, v in data_dict.items():\n",
    "#     for table in v['table']:\n",
    "#         tables.append(Document(page_content=table, metadata={'source': {'url': k, 'title': v['title']}}))"
   ]
  },
  {
   "cell_type": "markdown",
   "metadata": {},
   "source": [
    "Read the available crawled data"
   ]
  },
  {
   "cell_type": "code",
   "execution_count": 7,
   "metadata": {},
   "outputs": [],
   "source": [
    "data_dict = load_json(os.path.join(os.getcwd(), '../data/tmp_data.json'))\n",
    "\n",
    "texts = [Document(page_content=v['text'], metadata={'source': {'url': k, 'title': v['title']}}) for k, v in data_dict.items()]\n",
    "\n",
    "tables = []\n",
    "for k, v in data_dict.items():\n",
    "    for table in v['table']:\n",
    "        tables.append(Document(page_content=table, metadata={'source': {'url': k, 'title': v['title']}}))"
   ]
  },
  {
   "cell_type": "markdown",
   "metadata": {},
   "source": [
    "## Partition content"
   ]
  },
  {
   "cell_type": "code",
   "execution_count": 8,
   "metadata": {},
   "outputs": [],
   "source": [
    "# chunker = GeminiChunker()\n",
    "# chunks = chunker.split_documents(texts)"
   ]
  },
  {
   "cell_type": "markdown",
   "metadata": {},
   "source": [
    "### Summarize"
   ]
  },
  {
   "cell_type": "markdown",
   "metadata": {},
   "source": [
    "### Summarize process\n",
    "\n",
    "Uncomment to run it"
   ]
  },
  {
   "cell_type": "code",
   "execution_count": 9,
   "metadata": {},
   "outputs": [],
   "source": [
    "# MODEL_NAME = 'gemini-1.5-flash-latest'"
   ]
  },
  {
   "cell_type": "code",
   "execution_count": 10,
   "metadata": {},
   "outputs": [],
   "source": [
    "# def generate_text_summaries(texts: Union[List[str], List[Document]], tables: Union[List[str], List[Document]], summary_text: bool = True):\n",
    "#     prompt = PromptTemplate.from_template(template=TEXT_SUMMARIZE_PROMPT)\n",
    "#     empty_response = RunnableLambda(lambda x : AIMessage(content=\"Error processing document\"))\n",
    "#     model = GoogleGenerativeAI(model=MODEL_NAME, temperature=0.0, top_k=1, top_p=0.1).with_fallbacks([empty_response])\n",
    "#     chain = prompt | model | StrOutputParser()\n",
    "\n",
    "#     text_summaries = []\n",
    "#     table_summaries = []\n",
    "#     if texts and summary_text:\n",
    "#         if isinstance(texts[0], Document):\n",
    "#             texts = [t.page_content for t in texts]\n",
    "        \n",
    "#         text_summaries = chain.batch(texts, {'max_concurrency':1})\n",
    "#     else:\n",
    "#         text_summaries = texts\n",
    "\n",
    "#     if tables:\n",
    "#         if isinstance(tables[0], Document):\n",
    "#             tables = [t.page_content for t in tables]\n",
    "#         table_summaries = chain.batch(tables, {'max_concurrency':1})\n",
    "\n",
    "#     return text_summaries, table_summaries"
   ]
  },
  {
   "cell_type": "code",
   "execution_count": 11,
   "metadata": {},
   "outputs": [],
   "source": [
    "# text_summaries, table_summaries = generate_text_summaries(texts=texts, tables=tables, summary_text=True)"
   ]
  },
  {
   "cell_type": "code",
   "execution_count": 12,
   "metadata": {},
   "outputs": [],
   "source": [
    "# def generate_image_summaries(image_paths):\n",
    "#     model = GeminiImageExtractor(custom_prompt=IMAGE_SUMMARIZE_PROMPT)\n",
    "#     image_summaries = []\n",
    "#     b64_images = []\n",
    "#     for image in tqdm(sorted(image_paths)):\n",
    "#         image_summaries.append(model.invoke(image))\n",
    "#         b64_images.append(encode_image(get_image(image)))\n",
    "\n",
    "#     return b64_images, image_summaries"
   ]
  },
  {
   "cell_type": "code",
   "execution_count": 13,
   "metadata": {},
   "outputs": [],
   "source": [
    "# images = []\n",
    "# image_summaries = []\n",
    "# for k, v in data_dict.items():\n",
    "#     if v['image_path']:\n",
    "#         b64_images, summaries = generate_image_summaries(v['image_path'])\n",
    "#         images += [Document(page_content=image, metadata={'source': k, 'title': v['title']}) for image in b64_images]\n",
    "#         image_summaries += summaries"
   ]
  },
  {
   "cell_type": "code",
   "execution_count": 14,
   "metadata": {},
   "outputs": [],
   "source": [
    "# saved_docs = {\n",
    "#     'texts': [json.loads(text.json(ensure_ascii=False)) for text in texts],\n",
    "#     'tables': [json.loads(table.json(ensure_ascii=False)) for table in tables],\n",
    "#     'images': [json.loads(image.json(ensure_ascii=False)) for image in images],\n",
    "# }\n",
    "\n",
    "# saved_summaries = {\n",
    "#     'text_summaries': text_summaries,\n",
    "#     'table_summaries': table_summaries,\n",
    "#     'image_summaries': image_summaries\n",
    "# }\n",
    "\n",
    "# write_json(os.path.join(os.getcwd(), '../data/documents.json'), saved_docs)\n",
    "# write_json(os.path.join(os.getcwd(), '../data/summaries.json'), saved_summaries)"
   ]
  },
  {
   "cell_type": "markdown",
   "metadata": {},
   "source": [
    "### Use saved summaries"
   ]
  },
  {
   "cell_type": "code",
   "execution_count": 15,
   "metadata": {},
   "outputs": [],
   "source": [
    "documents = load_json(os.path.join(os.getcwd(), '../data/documents.json'))\n",
    "summaries = load_json(os.path.join(os.getcwd(), '../data/summaries.json'))\n",
    "\n",
    "texts = [Document(**t) for t in documents['texts']]\n",
    "tables = [Document(**t) for t in documents['tables']]\n",
    "images = [Document(**i) for i in documents['images']]\n",
    "\n",
    "text_summaries, table_summaries, image_summaries = summaries['text_summaries'], summaries['table_summaries'], summaries['image_summaries']"
   ]
  },
  {
   "cell_type": "markdown",
   "metadata": {},
   "source": [
    "## Setup Multi-vector Retriever"
   ]
  },
  {
   "cell_type": "markdown",
   "metadata": {},
   "source": [
    "### Ingest data"
   ]
  },
  {
   "cell_type": "markdown",
   "metadata": {},
   "source": [
    "Vectorstore"
   ]
  },
  {
   "cell_type": "code",
   "execution_count": 16,
   "metadata": {},
   "outputs": [],
   "source": [
    "vectorstore = Chroma(\n",
    "    collection_name='multimodal',\n",
    "    collection_metadata={'hnsw:space': 'cosine'},\n",
    "    embedding_function=CohereEmbeddings(model='embed-multilingual-v3.0'),\n",
    "    persist_directory=os.path.join(os.getcwd(), '../database')\n",
    ")"
   ]
  },
  {
   "cell_type": "markdown",
   "metadata": {},
   "source": [
    "Docstore"
   ]
  },
  {
   "cell_type": "code",
   "execution_count": 17,
   "metadata": {},
   "outputs": [],
   "source": [
    "store = LocalFileStore(root_path=os.path.abspath(os.path.join(os.getcwd(), '../database/docstore')))"
   ]
  },
  {
   "cell_type": "markdown",
   "metadata": {},
   "source": [
    "Ingest data"
   ]
  },
  {
   "cell_type": "code",
   "execution_count": 18,
   "metadata": {},
   "outputs": [],
   "source": [
    "id_key = 'doc_id'\n",
    "\n",
    "doc_ids = [str(uuid.uuid4()) for _ in range(len(texts) + len(tables) + len(images))]\n",
    "doc_summaries = [\n",
    "    Document(page_content=s, metadata={id_key: doc_ids[i]}) \\\n",
    "    for i, s in enumerate(text_summaries + table_summaries + image_summaries)\n",
    "]\n",
    "\n",
    "embedding_ids = vectorstore.add_documents(doc_summaries)"
   ]
  },
  {
   "cell_type": "code",
   "execution_count": 19,
   "metadata": {},
   "outputs": [],
   "source": [
    "map_id = {} # it is used to map hashed url - embedding ids\n",
    "doc_contents = []\n",
    "for d, e_id in zip((texts + tables + images), embedding_ids):\n",
    "    hash_source = sha256(d.metadata['source'].encode()).hexdigest()\n",
    "    if hash_source not in map_id:\n",
    "        map_id[hash_source] = []\n",
    "\n",
    "    map_id[hash_source].append(e_id)\n",
    "    doc_contents.append(d.json().encode())"
   ]
  },
  {
   "cell_type": "code",
   "execution_count": 20,
   "metadata": {},
   "outputs": [],
   "source": [
    "store.mset(list(zip(doc_ids, doc_contents)))"
   ]
  },
  {
   "cell_type": "code",
   "execution_count": 21,
   "metadata": {},
   "outputs": [],
   "source": [
    "write_json(os.path.join(os.getcwd(), '../database/id_map.json'), map_id)"
   ]
  },
  {
   "cell_type": "markdown",
   "metadata": {},
   "source": [
    "### Load retriever"
   ]
  },
  {
   "cell_type": "markdown",
   "metadata": {},
   "source": [
    "Multi-vector retriever"
   ]
  },
  {
   "cell_type": "code",
   "execution_count": 22,
   "metadata": {},
   "outputs": [],
   "source": [
    "id_key = \"doc_id\"\n",
    "\n",
    "retriever = MultiVectorRetriever(\n",
    "    vectorstore=vectorstore,\n",
    "    docstore=store,\n",
    "    id_key=id_key,\n",
    "    search_type='similarity',\n",
    "    search_kwargs={'k':15}\n",
    ")"
   ]
  }
 ],
 "metadata": {
  "kernelspec": {
   "display_name": ".venv",
   "language": "python",
   "name": "python3"
  },
  "language_info": {
   "codemirror_mode": {
    "name": "ipython",
    "version": 3
   },
   "file_extension": ".py",
   "mimetype": "text/x-python",
   "name": "python",
   "nbconvert_exporter": "python",
   "pygments_lexer": "ipython3",
   "version": "3.12.0"
  }
 },
 "nbformat": 4,
 "nbformat_minor": 2
}
