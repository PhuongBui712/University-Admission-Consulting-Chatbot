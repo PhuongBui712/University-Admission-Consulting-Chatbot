{
 "cells": [
  {
   "cell_type": "code",
   "metadata": {
    "ExecuteTime": {
     "end_time": "2024-05-24T12:43:56.730522Z",
     "start_time": "2024-05-24T12:43:56.724725Z"
    }
   },
   "source": [
    "import os\n",
    "from dotenv import load_dotenv\n",
    "\n",
    "load_dotenv()"
   ],
   "execution_count": 2,
   "outputs": []
  },
  {
   "cell_type": "code",
   "metadata": {
    "ExecuteTime": {
     "end_time": "2024-05-24T12:43:57.108453Z",
     "start_time": "2024-05-24T12:43:56.731416Z"
    }
   },
   "source": [
    "from langchain_google_genai import ChatGoogleGenerativeAI\n",
    "from langchain_core.prompts import PromptTemplate\n",
    "from langchain_core.messages import HumanMessage\n",
    "\n",
    "from src.prompts import IMAGE_EXTRACTOR_PROMPT"
   ],
   "execution_count": 3,
   "outputs": []
  },
  {
   "cell_type": "code",
   "metadata": {
    "ExecuteTime": {
     "end_time": "2024-05-24T12:43:57.121562Z",
     "start_time": "2024-05-24T12:43:57.109125Z"
    }
   },
   "source": [
    "llm = ChatGoogleGenerativeAI(model=\"gemini-1.5-flash-latest\", google_api_key=os.environ['GOOGLE_API_KEY'])"
   ],
   "execution_count": 4,
   "outputs": []
  },
  {
   "cell_type": "code",
   "metadata": {
    "ExecuteTime": {
     "end_time": "2024-05-24T12:43:57.124161Z",
     "start_time": "2024-05-24T12:43:57.122609Z"
    }
   },
   "source": [
    "# image_url = r'https://tuyensinh.hcmus.edu.vn/images/2024/05/08/im-chun-2023.jpg'\n",
    "# image_url = r'/Users/btp712/Code/University Admission Consulting Chatbot/data/ngnh-hc-sh.png'\n",
    "# image_url = r'/Users/btp712/Code/University Admission Consulting Chatbot/data/de_an_tuyen_sinh_2024.jpg'\n",
    "image_url = r'/Users/btp712/Code/University Admission Consulting Chatbot/data/monalisa.jpeg'"
   ],
   "execution_count": 5,
   "outputs": []
  },
  {
   "cell_type": "code",
   "metadata": {
    "ExecuteTime": {
     "end_time": "2024-05-24T12:43:57.126669Z",
     "start_time": "2024-05-24T12:43:57.124780Z"
    }
   },
   "source": [
    "message = HumanMessage(\n",
    "    content=[\n",
    "        {\n",
    "            \"type\": \"text\",\n",
    "            \"text\": IMAGE_EXTRACTOR_PROMPT,\n",
    "        },  # You can optionally provide text parts\n",
    "        {\"type\": \"image_url\", \"image_url\": image_url},\n",
    "    ]\n",
    ")"
   ],
   "execution_count": 6,
   "outputs": []
  },
  {
   "cell_type": "code",
   "metadata": {
    "ExecuteTime": {
     "end_time": "2024-05-24T12:43:59.680051Z",
     "start_time": "2024-05-24T12:43:57.127396Z"
    }
   },
   "source": [
    "result = llm.invoke([message])"
   ],
   "execution_count": 7,
   "outputs": []
  },
  {
   "cell_type": "code",
   "metadata": {
    "ExecuteTime": {
     "end_time": "2024-05-24T12:43:59.688868Z",
     "start_time": "2024-05-24T12:43:59.681758Z"
    }
   },
   "source": [
    "print(result.content)"
   ],
   "execution_count": 8,
   "outputs": []
  }
 ],
 "metadata": {
  "kernelspec": {
   "display_name": ".venv",
   "language": "python",
   "name": "python3"
  },
  "language_info": {
   "codemirror_mode": {
    "name": "ipython",
    "version": 3
   },
   "file_extension": ".py",
   "mimetype": "text/x-python",
   "name": "python",
   "nbconvert_exporter": "python",
   "pygments_lexer": "ipython3",
   "version": "3.12.0"
  }
 },
 "nbformat": 4,
 "nbformat_minor": 2
}
