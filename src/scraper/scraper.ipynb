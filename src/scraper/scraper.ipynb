{
 "cells": [
  {
   "metadata": {
    "ExecuteTime": {
     "end_time": "2024-05-24T12:23:08.293268Z",
     "start_time": "2024-05-24T12:23:08.018577Z"
    }
   },
   "cell_type": "code",
   "source": [
    "import os\n",
    "import requests\n",
    "import bs4\n",
    "from bs4 import BeautifulSoup\n",
    "from datetime import datetime\n",
    "from dotenv import load_dotenv\n",
    "\n",
    "from langchain_core.documents import Document\n",
    "from langchain_google_genai import ChatGoogleGenerativeAI\n",
    "\n",
    "from src.prompts import IMAGE_EXTRACTOR_PROMPT"
   ],
   "id": "b2c160cc63a54e0a",
   "outputs": [],
   "execution_count": 4
  },
  {
   "metadata": {
    "ExecuteTime": {
     "end_time": "2024-05-24T12:25:25.990657Z",
     "start_time": "2024-05-24T12:25:19.922321Z"
    }
   },
   "cell_type": "code",
   "source": "from langchain_google_genai import G",
   "id": "4ab7aa4e348f6896",
   "outputs": [
    {
     "ename": "DefaultCredentialsError",
     "evalue": "Your default credentials were not found. To set up Application Default Credentials, see https://cloud.google.com/docs/authentication/external/set-up-adc for more information.",
     "output_type": "error",
     "traceback": [
      "\u001B[0;31m---------------------------------------------------------------------------\u001B[0m",
      "\u001B[0;31mDefaultCredentialsError\u001B[0m                   Traceback (most recent call last)",
      "Cell \u001B[0;32mIn[7], line 3\u001B[0m\n\u001B[1;32m      1\u001B[0m \u001B[38;5;28;01mimport\u001B[39;00m \u001B[38;5;21;01mgoogle\u001B[39;00m\u001B[38;5;21;01m.\u001B[39;00m\u001B[38;5;21;01mgenerativeai\u001B[39;00m \u001B[38;5;28;01mas\u001B[39;00m \u001B[38;5;21;01mgenai\u001B[39;00m\n\u001B[0;32m----> 3\u001B[0m \u001B[38;5;28;43;01mfor\u001B[39;49;00m\u001B[43m \u001B[49m\u001B[43mmodel\u001B[49m\u001B[43m \u001B[49m\u001B[38;5;129;43;01min\u001B[39;49;00m\u001B[43m \u001B[49m\u001B[43mgenai\u001B[49m\u001B[38;5;241;43m.\u001B[39;49m\u001B[43mlist_models\u001B[49m\u001B[43m(\u001B[49m\u001B[43m)\u001B[49m\u001B[43m:\u001B[49m\n\u001B[1;32m      4\u001B[0m \u001B[43m    \u001B[49m\u001B[38;5;28;43mprint\u001B[39;49m\u001B[43m(\u001B[49m\u001B[43mmodel\u001B[49m\u001B[43m)\u001B[49m\n",
      "File \u001B[0;32m~/Code/University Admission Consulting Chatbot/.venv/lib/python3.12/site-packages/google/generativeai/models.py:188\u001B[0m, in \u001B[0;36mlist_models\u001B[0;34m(page_size, client, request_options)\u001B[0m\n\u001B[1;32m    185\u001B[0m     request_options \u001B[38;5;241m=\u001B[39m {}\n\u001B[1;32m    187\u001B[0m \u001B[38;5;28;01mif\u001B[39;00m client \u001B[38;5;129;01mis\u001B[39;00m \u001B[38;5;28;01mNone\u001B[39;00m:\n\u001B[0;32m--> 188\u001B[0m     client \u001B[38;5;241m=\u001B[39m \u001B[43mget_default_model_client\u001B[49m\u001B[43m(\u001B[49m\u001B[43m)\u001B[49m\n\u001B[1;32m    190\u001B[0m \u001B[38;5;28;01mfor\u001B[39;00m model \u001B[38;5;129;01min\u001B[39;00m client\u001B[38;5;241m.\u001B[39mlist_models(page_size\u001B[38;5;241m=\u001B[39mpage_size, \u001B[38;5;241m*\u001B[39m\u001B[38;5;241m*\u001B[39mrequest_options):\n\u001B[1;32m    191\u001B[0m     model \u001B[38;5;241m=\u001B[39m \u001B[38;5;28mtype\u001B[39m(model)\u001B[38;5;241m.\u001B[39mto_dict(model)\n",
      "File \u001B[0;32m~/Code/University Admission Consulting Chatbot/.venv/lib/python3.12/site-packages/google/generativeai/client.py:320\u001B[0m, in \u001B[0;36mget_default_model_client\u001B[0;34m()\u001B[0m\n\u001B[1;32m    319\u001B[0m \u001B[38;5;28;01mdef\u001B[39;00m \u001B[38;5;21mget_default_model_client\u001B[39m() \u001B[38;5;241m-\u001B[39m\u001B[38;5;241m>\u001B[39m glm\u001B[38;5;241m.\u001B[39mModelServiceAsyncClient:\n\u001B[0;32m--> 320\u001B[0m     \u001B[38;5;28;01mreturn\u001B[39;00m \u001B[43m_client_manager\u001B[49m\u001B[38;5;241;43m.\u001B[39;49m\u001B[43mget_default_client\u001B[49m\u001B[43m(\u001B[49m\u001B[38;5;124;43m\"\u001B[39;49m\u001B[38;5;124;43mmodel\u001B[39;49m\u001B[38;5;124;43m\"\u001B[39;49m\u001B[43m)\u001B[49m\n",
      "File \u001B[0;32m~/Code/University Admission Consulting Chatbot/.venv/lib/python3.12/site-packages/google/generativeai/client.py:228\u001B[0m, in \u001B[0;36m_ClientManager.get_default_client\u001B[0;34m(self, name)\u001B[0m\n\u001B[1;32m    226\u001B[0m client \u001B[38;5;241m=\u001B[39m \u001B[38;5;28mself\u001B[39m\u001B[38;5;241m.\u001B[39mclients\u001B[38;5;241m.\u001B[39mget(name)\n\u001B[1;32m    227\u001B[0m \u001B[38;5;28;01mif\u001B[39;00m client \u001B[38;5;129;01mis\u001B[39;00m \u001B[38;5;28;01mNone\u001B[39;00m:\n\u001B[0;32m--> 228\u001B[0m     client \u001B[38;5;241m=\u001B[39m \u001B[38;5;28;43mself\u001B[39;49m\u001B[38;5;241;43m.\u001B[39;49m\u001B[43mmake_client\u001B[49m\u001B[43m(\u001B[49m\u001B[43mname\u001B[49m\u001B[43m)\u001B[49m\n\u001B[1;32m    229\u001B[0m     \u001B[38;5;28mself\u001B[39m\u001B[38;5;241m.\u001B[39mclients[name] \u001B[38;5;241m=\u001B[39m client\n\u001B[1;32m    230\u001B[0m \u001B[38;5;28;01mreturn\u001B[39;00m client\n",
      "File \u001B[0;32m~/Code/University Admission Consulting Chatbot/.venv/lib/python3.12/site-packages/google/generativeai/client.py:186\u001B[0m, in \u001B[0;36m_ClientManager.make_client\u001B[0;34m(self, name)\u001B[0m\n\u001B[1;32m    183\u001B[0m \u001B[38;5;28;01mif\u001B[39;00m \u001B[38;5;129;01mnot\u001B[39;00m \u001B[38;5;28mself\u001B[39m\u001B[38;5;241m.\u001B[39mclient_config:\n\u001B[1;32m    184\u001B[0m     configure()\n\u001B[0;32m--> 186\u001B[0m client \u001B[38;5;241m=\u001B[39m \u001B[38;5;28;43mcls\u001B[39;49m\u001B[43m(\u001B[49m\u001B[38;5;241;43m*\u001B[39;49m\u001B[38;5;241;43m*\u001B[39;49m\u001B[38;5;28;43mself\u001B[39;49m\u001B[38;5;241;43m.\u001B[39;49m\u001B[43mclient_config\u001B[49m\u001B[43m)\u001B[49m\n\u001B[1;32m    188\u001B[0m \u001B[38;5;28;01mif\u001B[39;00m \u001B[38;5;129;01mnot\u001B[39;00m \u001B[38;5;28mself\u001B[39m\u001B[38;5;241m.\u001B[39mdefault_metadata:\n\u001B[1;32m    189\u001B[0m     \u001B[38;5;28;01mreturn\u001B[39;00m client\n",
      "File \u001B[0;32m~/Code/University Admission Consulting Chatbot/.venv/lib/python3.12/site-packages/google/ai/generativelanguage_v1beta/services/model_service/client.py:681\u001B[0m, in \u001B[0;36mModelServiceClient.__init__\u001B[0;34m(self, credentials, transport, client_options, client_info)\u001B[0m\n\u001B[1;32m    673\u001B[0m transport_init: Union[\n\u001B[1;32m    674\u001B[0m     Type[ModelServiceTransport], Callable[\u001B[38;5;241m.\u001B[39m\u001B[38;5;241m.\u001B[39m\u001B[38;5;241m.\u001B[39m, ModelServiceTransport]\n\u001B[1;32m    675\u001B[0m ] \u001B[38;5;241m=\u001B[39m (\n\u001B[0;32m   (...)\u001B[0m\n\u001B[1;32m    678\u001B[0m     \u001B[38;5;28;01melse\u001B[39;00m cast(Callable[\u001B[38;5;241m.\u001B[39m\u001B[38;5;241m.\u001B[39m\u001B[38;5;241m.\u001B[39m, ModelServiceTransport], transport)\n\u001B[1;32m    679\u001B[0m )\n\u001B[1;32m    680\u001B[0m \u001B[38;5;66;03m# initialize with the provided callable or the passed in class\u001B[39;00m\n\u001B[0;32m--> 681\u001B[0m \u001B[38;5;28mself\u001B[39m\u001B[38;5;241m.\u001B[39m_transport \u001B[38;5;241m=\u001B[39m \u001B[43mtransport_init\u001B[49m\u001B[43m(\u001B[49m\n\u001B[1;32m    682\u001B[0m \u001B[43m    \u001B[49m\u001B[43mcredentials\u001B[49m\u001B[38;5;241;43m=\u001B[39;49m\u001B[43mcredentials\u001B[49m\u001B[43m,\u001B[49m\n\u001B[1;32m    683\u001B[0m \u001B[43m    \u001B[49m\u001B[43mcredentials_file\u001B[49m\u001B[38;5;241;43m=\u001B[39;49m\u001B[38;5;28;43mself\u001B[39;49m\u001B[38;5;241;43m.\u001B[39;49m\u001B[43m_client_options\u001B[49m\u001B[38;5;241;43m.\u001B[39;49m\u001B[43mcredentials_file\u001B[49m\u001B[43m,\u001B[49m\n\u001B[1;32m    684\u001B[0m \u001B[43m    \u001B[49m\u001B[43mhost\u001B[49m\u001B[38;5;241;43m=\u001B[39;49m\u001B[38;5;28;43mself\u001B[39;49m\u001B[38;5;241;43m.\u001B[39;49m\u001B[43m_api_endpoint\u001B[49m\u001B[43m,\u001B[49m\n\u001B[1;32m    685\u001B[0m \u001B[43m    \u001B[49m\u001B[43mscopes\u001B[49m\u001B[38;5;241;43m=\u001B[39;49m\u001B[38;5;28;43mself\u001B[39;49m\u001B[38;5;241;43m.\u001B[39;49m\u001B[43m_client_options\u001B[49m\u001B[38;5;241;43m.\u001B[39;49m\u001B[43mscopes\u001B[49m\u001B[43m,\u001B[49m\n\u001B[1;32m    686\u001B[0m \u001B[43m    \u001B[49m\u001B[43mclient_cert_source_for_mtls\u001B[49m\u001B[38;5;241;43m=\u001B[39;49m\u001B[38;5;28;43mself\u001B[39;49m\u001B[38;5;241;43m.\u001B[39;49m\u001B[43m_client_cert_source\u001B[49m\u001B[43m,\u001B[49m\n\u001B[1;32m    687\u001B[0m \u001B[43m    \u001B[49m\u001B[43mquota_project_id\u001B[49m\u001B[38;5;241;43m=\u001B[39;49m\u001B[38;5;28;43mself\u001B[39;49m\u001B[38;5;241;43m.\u001B[39;49m\u001B[43m_client_options\u001B[49m\u001B[38;5;241;43m.\u001B[39;49m\u001B[43mquota_project_id\u001B[49m\u001B[43m,\u001B[49m\n\u001B[1;32m    688\u001B[0m \u001B[43m    \u001B[49m\u001B[43mclient_info\u001B[49m\u001B[38;5;241;43m=\u001B[39;49m\u001B[43mclient_info\u001B[49m\u001B[43m,\u001B[49m\n\u001B[1;32m    689\u001B[0m \u001B[43m    \u001B[49m\u001B[43malways_use_jwt_access\u001B[49m\u001B[38;5;241;43m=\u001B[39;49m\u001B[38;5;28;43;01mTrue\u001B[39;49;00m\u001B[43m,\u001B[49m\n\u001B[1;32m    690\u001B[0m \u001B[43m    \u001B[49m\u001B[43mapi_audience\u001B[49m\u001B[38;5;241;43m=\u001B[39;49m\u001B[38;5;28;43mself\u001B[39;49m\u001B[38;5;241;43m.\u001B[39;49m\u001B[43m_client_options\u001B[49m\u001B[38;5;241;43m.\u001B[39;49m\u001B[43mapi_audience\u001B[49m\u001B[43m,\u001B[49m\n\u001B[1;32m    691\u001B[0m \u001B[43m\u001B[49m\u001B[43m)\u001B[49m\n",
      "File \u001B[0;32m~/Code/University Admission Consulting Chatbot/.venv/lib/python3.12/site-packages/google/ai/generativelanguage_v1beta/services/model_service/transports/grpc.py:157\u001B[0m, in \u001B[0;36mModelServiceGrpcTransport.__init__\u001B[0;34m(self, host, credentials, credentials_file, scopes, channel, api_mtls_endpoint, client_cert_source, ssl_channel_credentials, client_cert_source_for_mtls, quota_project_id, client_info, always_use_jwt_access, api_audience)\u001B[0m\n\u001B[1;32m    152\u001B[0m             \u001B[38;5;28mself\u001B[39m\u001B[38;5;241m.\u001B[39m_ssl_channel_credentials \u001B[38;5;241m=\u001B[39m grpc\u001B[38;5;241m.\u001B[39mssl_channel_credentials(\n\u001B[1;32m    153\u001B[0m                 certificate_chain\u001B[38;5;241m=\u001B[39mcert, private_key\u001B[38;5;241m=\u001B[39mkey\n\u001B[1;32m    154\u001B[0m             )\n\u001B[1;32m    156\u001B[0m \u001B[38;5;66;03m# The base transport sets the host, credentials and scopes\u001B[39;00m\n\u001B[0;32m--> 157\u001B[0m \u001B[38;5;28;43msuper\u001B[39;49m\u001B[43m(\u001B[49m\u001B[43m)\u001B[49m\u001B[38;5;241;43m.\u001B[39;49m\u001B[38;5;21;43m__init__\u001B[39;49m\u001B[43m(\u001B[49m\n\u001B[1;32m    158\u001B[0m \u001B[43m    \u001B[49m\u001B[43mhost\u001B[49m\u001B[38;5;241;43m=\u001B[39;49m\u001B[43mhost\u001B[49m\u001B[43m,\u001B[49m\n\u001B[1;32m    159\u001B[0m \u001B[43m    \u001B[49m\u001B[43mcredentials\u001B[49m\u001B[38;5;241;43m=\u001B[39;49m\u001B[43mcredentials\u001B[49m\u001B[43m,\u001B[49m\n\u001B[1;32m    160\u001B[0m \u001B[43m    \u001B[49m\u001B[43mcredentials_file\u001B[49m\u001B[38;5;241;43m=\u001B[39;49m\u001B[43mcredentials_file\u001B[49m\u001B[43m,\u001B[49m\n\u001B[1;32m    161\u001B[0m \u001B[43m    \u001B[49m\u001B[43mscopes\u001B[49m\u001B[38;5;241;43m=\u001B[39;49m\u001B[43mscopes\u001B[49m\u001B[43m,\u001B[49m\n\u001B[1;32m    162\u001B[0m \u001B[43m    \u001B[49m\u001B[43mquota_project_id\u001B[49m\u001B[38;5;241;43m=\u001B[39;49m\u001B[43mquota_project_id\u001B[49m\u001B[43m,\u001B[49m\n\u001B[1;32m    163\u001B[0m \u001B[43m    \u001B[49m\u001B[43mclient_info\u001B[49m\u001B[38;5;241;43m=\u001B[39;49m\u001B[43mclient_info\u001B[49m\u001B[43m,\u001B[49m\n\u001B[1;32m    164\u001B[0m \u001B[43m    \u001B[49m\u001B[43malways_use_jwt_access\u001B[49m\u001B[38;5;241;43m=\u001B[39;49m\u001B[43malways_use_jwt_access\u001B[49m\u001B[43m,\u001B[49m\n\u001B[1;32m    165\u001B[0m \u001B[43m    \u001B[49m\u001B[43mapi_audience\u001B[49m\u001B[38;5;241;43m=\u001B[39;49m\u001B[43mapi_audience\u001B[49m\u001B[43m,\u001B[49m\n\u001B[1;32m    166\u001B[0m \u001B[43m\u001B[49m\u001B[43m)\u001B[49m\n\u001B[1;32m    168\u001B[0m \u001B[38;5;28;01mif\u001B[39;00m \u001B[38;5;129;01mnot\u001B[39;00m \u001B[38;5;28mself\u001B[39m\u001B[38;5;241m.\u001B[39m_grpc_channel:\n\u001B[1;32m    169\u001B[0m     \u001B[38;5;66;03m# initialize with the provided callable or the default channel\u001B[39;00m\n\u001B[1;32m    170\u001B[0m     channel_init \u001B[38;5;241m=\u001B[39m channel \u001B[38;5;129;01mor\u001B[39;00m \u001B[38;5;28mtype\u001B[39m(\u001B[38;5;28mself\u001B[39m)\u001B[38;5;241m.\u001B[39mcreate_channel\n",
      "File \u001B[0;32m~/Code/University Admission Consulting Chatbot/.venv/lib/python3.12/site-packages/google/ai/generativelanguage_v1beta/services/model_service/transports/base.py:101\u001B[0m, in \u001B[0;36mModelServiceTransport.__init__\u001B[0;34m(self, host, credentials, credentials_file, scopes, quota_project_id, client_info, always_use_jwt_access, api_audience, **kwargs)\u001B[0m\n\u001B[1;32m     97\u001B[0m     credentials, _ \u001B[38;5;241m=\u001B[39m google\u001B[38;5;241m.\u001B[39mauth\u001B[38;5;241m.\u001B[39mload_credentials_from_file(\n\u001B[1;32m     98\u001B[0m         credentials_file, \u001B[38;5;241m*\u001B[39m\u001B[38;5;241m*\u001B[39mscopes_kwargs, quota_project_id\u001B[38;5;241m=\u001B[39mquota_project_id\n\u001B[1;32m     99\u001B[0m     )\n\u001B[1;32m    100\u001B[0m \u001B[38;5;28;01melif\u001B[39;00m credentials \u001B[38;5;129;01mis\u001B[39;00m \u001B[38;5;28;01mNone\u001B[39;00m:\n\u001B[0;32m--> 101\u001B[0m     credentials, _ \u001B[38;5;241m=\u001B[39m \u001B[43mgoogle\u001B[49m\u001B[38;5;241;43m.\u001B[39;49m\u001B[43mauth\u001B[49m\u001B[38;5;241;43m.\u001B[39;49m\u001B[43mdefault\u001B[49m\u001B[43m(\u001B[49m\n\u001B[1;32m    102\u001B[0m \u001B[43m        \u001B[49m\u001B[38;5;241;43m*\u001B[39;49m\u001B[38;5;241;43m*\u001B[39;49m\u001B[43mscopes_kwargs\u001B[49m\u001B[43m,\u001B[49m\u001B[43m \u001B[49m\u001B[43mquota_project_id\u001B[49m\u001B[38;5;241;43m=\u001B[39;49m\u001B[43mquota_project_id\u001B[49m\n\u001B[1;32m    103\u001B[0m \u001B[43m    \u001B[49m\u001B[43m)\u001B[49m\n\u001B[1;32m    104\u001B[0m     \u001B[38;5;66;03m# Don't apply audience if the credentials file passed from user.\u001B[39;00m\n\u001B[1;32m    105\u001B[0m     \u001B[38;5;28;01mif\u001B[39;00m \u001B[38;5;28mhasattr\u001B[39m(credentials, \u001B[38;5;124m\"\u001B[39m\u001B[38;5;124mwith_gdch_audience\u001B[39m\u001B[38;5;124m\"\u001B[39m):\n",
      "File \u001B[0;32m~/Code/University Admission Consulting Chatbot/.venv/lib/python3.12/site-packages/google/auth/_default.py:691\u001B[0m, in \u001B[0;36mdefault\u001B[0;34m(scopes, request, quota_project_id, default_scopes)\u001B[0m\n\u001B[1;32m    683\u001B[0m             _LOGGER\u001B[38;5;241m.\u001B[39mwarning(\n\u001B[1;32m    684\u001B[0m                 \u001B[38;5;124m\"\u001B[39m\u001B[38;5;124mNo project ID could be determined. Consider running \u001B[39m\u001B[38;5;124m\"\u001B[39m\n\u001B[1;32m    685\u001B[0m                 \u001B[38;5;124m\"\u001B[39m\u001B[38;5;124m`gcloud config set project` or setting the \u001B[39m\u001B[38;5;132;01m%s\u001B[39;00m\u001B[38;5;124m \u001B[39m\u001B[38;5;124m\"\u001B[39m\n\u001B[1;32m    686\u001B[0m                 \u001B[38;5;124m\"\u001B[39m\u001B[38;5;124menvironment variable\u001B[39m\u001B[38;5;124m\"\u001B[39m,\n\u001B[1;32m    687\u001B[0m                 environment_vars\u001B[38;5;241m.\u001B[39mPROJECT,\n\u001B[1;32m    688\u001B[0m             )\n\u001B[1;32m    689\u001B[0m         \u001B[38;5;28;01mreturn\u001B[39;00m credentials, effective_project_id\n\u001B[0;32m--> 691\u001B[0m \u001B[38;5;28;01mraise\u001B[39;00m exceptions\u001B[38;5;241m.\u001B[39mDefaultCredentialsError(_CLOUD_SDK_MISSING_CREDENTIALS)\n",
      "\u001B[0;31mDefaultCredentialsError\u001B[0m: Your default credentials were not found. To set up Application Default Credentials, see https://cloud.google.com/docs/authentication/external/set-up-adc for more information."
     ]
    }
   ],
   "execution_count": 7
  },
  {
   "metadata": {},
   "cell_type": "markdown",
   "source": "## Global variables",
   "id": "6aac9d4763bfc88c"
  },
  {
   "metadata": {
    "ExecuteTime": {
     "end_time": "2024-05-22T11:53:44.979197Z",
     "start_time": "2024-05-22T11:53:44.977244Z"
    }
   },
   "cell_type": "code",
   "source": [
    "documents = []\n",
    "urls = set()\n",
    "start_domain = [r'https://tuyensinh.hcmus.edu.vn']"
   ],
   "id": "215be3bca27846cf",
   "outputs": [],
   "execution_count": 2
  },
  {
   "metadata": {},
   "cell_type": "markdown",
   "source": "## Utils",
   "id": "ec2a991871e46c5c"
  },
  {
   "metadata": {},
   "cell_type": "code",
   "outputs": [],
   "execution_count": null,
   "source": [
    "class InvalidAPIKey(Exception):\n",
    "    message = 'Invalid API Key'\n",
    "    def __init__(self):\n",
    "        super().__init__(self.message)\n",
    "        \n",
    "\n",
    "class GeminiImageExtractor:\n",
    "    prompt = IMAGE_EXTRACTOR_PROMPT\n",
    "    model_list = ['gemini-1.5-flash-latest',\n",
    "                  'gemini-1.5-pro-latest',\n",
    "                  'gemini-1.0-pro-latest']\n",
    "    def __init__(self, model_name='gemini-1.0-pro-latest'):\n",
    "        self.api = self._get_api_()\n",
    "        self.chat_model = ChatGoogleGenerativeAI(model=model_name, google_api_key=self.api)\n",
    "        self.text_content = {\n",
    "            \"type\": \"text\",\n",
    "            \"text\": self.prompt\n",
    "        }\n",
    "        \n",
    "    def extract(self, image_path):\n",
    "        image_content = {\n",
    "            \"type\": \"image_url\",\n",
    "            \"image_url\": image_path\n",
    "        }\n",
    "        \n",
    "        result = self.chat_model.invoke([[self.text_content, image_content]])\n",
    "        return result.content\n",
    "        \n",
    "    def _get_api_(self):\n",
    "        key = os.getenv('GOOGLE_API_KEY')\n",
    "        if not key:\n",
    "            raise InvalidAPIKey\n",
    "        \n",
    "        return key"
   ],
   "id": "5f9ec2fd249c71b"
  },
  {
   "metadata": {
    "ExecuteTime": {
     "end_time": "2024-05-22T11:53:44.981146Z",
     "start_time": "2024-05-22T11:53:44.979666Z"
    }
   },
   "cell_type": "code",
   "source": [
    "def is_subdirectory(href):\n",
    "    return href.startswith('/')"
   ],
   "id": "2d3579c00654d157",
   "outputs": [],
   "execution_count": 3
  },
  {
   "metadata": {
    "ExecuteTime": {
     "end_time": "2024-05-22T11:53:44.983546Z",
     "start_time": "2024-05-22T11:53:44.982258Z"
    }
   },
   "cell_type": "code",
   "source": [
    "def is_attachment(url):\n",
    "    # TODO: generalize of various file types\n",
    "    return url.endswith('.pdf')"
   ],
   "id": "63f3a3cbdd4cac6",
   "outputs": [],
   "execution_count": 4
  },
  {
   "metadata": {
    "ExecuteTime": {
     "end_time": "2024-05-22T11:53:44.985598Z",
     "start_time": "2024-05-22T11:53:44.983981Z"
    }
   },
   "cell_type": "code",
   "source": [
    "def get_web_soup(url):\n",
    "    response = requests.get(url)\n",
    "    if response.status_code == 200:\n",
    "        soup = bs4.BeautifulSoup(response.content, 'html.parser')\n",
    "        return soup\n",
    "    \n",
    "    return None"
   ],
   "id": "8892a21b5e9d3f",
   "outputs": [],
   "execution_count": 5
  },
  {
   "metadata": {
    "ExecuteTime": {
     "end_time": "2024-05-22T11:53:44.988270Z",
     "start_time": "2024-05-22T11:53:44.986098Z"
    }
   },
   "cell_type": "code",
   "source": [
    "def get_links(soup, internal_link=True, external_link=False, attachment=True):\n",
    "    # decompose navigate elements (next or previous page navigators)\n",
    "    navigator_element = soup.find('ul', {'class': 'pager pagenav'})\n",
    "    if navigator_element:\n",
    "        navigator_element.decompose()\n",
    "    \n",
    "    # get links\n",
    "    links = set()\n",
    "    for a in soup.find_all('a', href=True):\n",
    "        if attachment and is_attachment(a['href']):\n",
    "            links.add(a['href'])\n",
    "        \n",
    "        else:\n",
    "            is_internal_link = is_subdirectory(a['href'])\n",
    "            if is_internal_link and internal_link:\n",
    "                links.add(a['href'])\n",
    "            elif not is_internal_link and external_link:\n",
    "                links.add(a['href'])\n",
    "    \n",
    "    return links"
   ],
   "id": "a092a5ee2f684995",
   "outputs": [],
   "execution_count": 6
  },
  {
   "metadata": {},
   "cell_type": "code",
   "outputs": [],
   "execution_count": null,
   "source": [
    "def parse_image(soup, extractor=None):\n",
    "    for img in soup.find_all('img', src=True):\n",
    "        "
   ],
   "id": "43e32b15fc2dd67a"
  },
  {
   "metadata": {},
   "cell_type": "code",
   "outputs": [],
   "execution_count": null,
   "source": [
    "def parse_website_url(soup):\n",
    "    for a in soup.find_all('a', href=True):\n",
    "        if a.string and a.string.strip() != a['href']:\n",
    "            original_url = a['href']\n",
    "            a.string += f' ({original_url}) '\n",
    "        \n",
    "        elif a.string is None:\n",
    "            a.string = a['href']"
   ],
   "id": "224870e356ddfbd"
  },
  {
   "metadata": {
    "ExecuteTime": {
     "end_time": "2024-05-22T11:53:44.991176Z",
     "start_time": "2024-05-22T11:53:44.988779Z"
    }
   },
   "cell_type": "code",
   "source": [
    "def parse_website_content(soup):\n",
    "    # get the main content\n",
    "    main_content = soup.find('section', {'id': 'sp-main-body'})\n",
    "    \n",
    "    # decompose navigate elements (next or previous page navigators)\n",
    "    navigator_element = main_content.find('ul', {'class': 'pager pagenav'})\n",
    "    if navigator_element:\n",
    "        navigator_element.decompose()\n",
    "    \n",
    "    \n",
    "    \n",
    "    # kill all script and style elements\n",
    "    for script in main_content(['script', 'style']):\n",
    "        script.extract()\n",
    "        \n",
    "    # parse content\n",
    "    content = main_content.get_text()\n",
    "    lines = (line.strip() for line in content.splitlines())\n",
    "    chunks = (phrase.strip() for line in lines for phrase in line.split('  '))\n",
    "    text = '\\n'.join(chunk for chunk in chunks if chunk)\n",
    "    return text"
   ],
   "id": "761fd8cfb5558b2c",
   "outputs": [],
   "execution_count": 7
  },
  {
   "metadata": {
    "ExecuteTime": {
     "end_time": "2024-05-22T11:53:44.993242Z",
     "start_time": "2024-05-22T11:53:44.991630Z"
    }
   },
   "cell_type": "code",
   "source": [
    "def crawl_article(url):\n",
    "    reference_urls = set()\n",
    "    page_content = None\n",
    "    soup = get_web_soup(url)\n",
    "    if soup:\n",
    "        main_body = soup.find('section', {'id': 'sp-main-body'})\n",
    "        reference_urls.update(get_links(main_body, internal_link=True, external_link=False, attachment=True))\n",
    "        main_content = parse_website_content(soup)\n",
    "        page_content = (main_content, soup.title.string)\n",
    "        \n",
    "    return page_content, reference_urls"
   ],
   "id": "50fdac7d8db99777",
   "outputs": [],
   "execution_count": 8
  },
  {
   "metadata": {
    "ExecuteTime": {
     "end_time": "2024-05-22T11:53:44.995082Z",
     "start_time": "2024-05-22T11:53:44.993741Z"
    }
   },
   "cell_type": "code",
   "source": [
    "def webpage_to_documents(url, page_content, title):\n",
    "    return Document(\n",
    "        page_content=page_content,\n",
    "        metadata={\n",
    "            'source': url,\n",
    "            'title': title\n",
    "        }\n",
    "    )"
   ],
   "id": "454539368de0e997",
   "outputs": [],
   "execution_count": 9
  },
  {
   "metadata": {},
   "cell_type": "markdown",
   "source": "## Get admission data (Thông tin tuyển sinh)",
   "id": "e774ee218e665152"
  },
  {
   "metadata": {},
   "cell_type": "markdown",
   "source": "### Get latest article URL ",
   "id": "d05691a3978065bf"
  },
  {
   "metadata": {
    "ExecuteTime": {
     "end_time": "2024-05-22T11:53:44.997952Z",
     "start_time": "2024-05-22T11:53:44.996629Z"
    }
   },
   "cell_type": "code",
   "source": [
    "start_url = r'https://tuyensinh.hcmus.edu.vn'\n",
    "url = r'https://tuyensinh.hcmus.edu.vn/th%C3%B4ng-tin-tuy%E1%BB%83n-sinh-%C4%91%E1%BA%A1i-h%E1%BB%8Dc'"
   ],
   "id": "d55627df2d9726b9",
   "outputs": [],
   "execution_count": 10
  },
  {
   "metadata": {
    "ExecuteTime": {
     "end_time": "2024-05-22T11:53:45.983214Z",
     "start_time": "2024-05-22T11:53:44.998522Z"
    }
   },
   "cell_type": "code",
   "source": [
    "response = requests.get(url)\n",
    "if response.status_code == 200:\n",
    "    # get content\n",
    "    soup = BeautifulSoup(response.content, 'html.parser')\n",
    "    main_page = soup.get_text()\n",
    "    article_list = soup.find_all('li')\n",
    "    for article in article_list:\n",
    "        release_date = article.find('span', class_=\"mod-articles-category-date\")\n",
    "        if release_date:\n",
    "            article_release_year = release_date.text.strip()[-4:]\n",
    "            current_year = str(datetime.now().year)\n",
    "            if article_release_year == current_year:\n",
    "                article_url = start_url + article.find('a', class_=\"mod-articles-category-title\")['href']\n",
    "                urls.add(article_url)"
   ],
   "id": "9cab20dd6c420998",
   "outputs": [],
   "execution_count": 11
  },
  {
   "metadata": {},
   "cell_type": "markdown",
   "source": "### Get article content",
   "id": "dea58ab2ae3350a9"
  },
  {
   "metadata": {
    "ExecuteTime": {
     "end_time": "2024-05-22T11:54:01.100801Z",
     "start_time": "2024-05-22T11:53:45.983846Z"
    }
   },
   "cell_type": "code",
   "source": [
    "crawled_urls = []\n",
    "reference_urls = set()\n",
    "article_contents = []\n",
    "for url in urls:\n",
    "    crawled_urls.append(url)\n",
    "    \n",
    "    soup = get_web_soup(url)\n",
    "    if soup:\n",
    "        page_content, references = crawl_article(url)\n",
    "        references = [start_url + reference for reference in references]\n",
    "        reference_urls.update(references)\n",
    "        article_contents.append(page_content)"
   ],
   "id": "126234644233eff1",
   "outputs": [],
   "execution_count": 12
  },
  {
   "metadata": {
    "ExecuteTime": {
     "end_time": "2024-05-22T11:57:59.487191Z",
     "start_time": "2024-05-22T11:57:59.484866Z"
    }
   },
   "cell_type": "code",
   "source": [
    "urls.update(reference_urls)\n",
    "urls = urls.difference(crawled_urls)"
   ],
   "id": "1337322d9414b8a8",
   "outputs": [],
   "execution_count": 19
  },
  {
   "metadata": {
    "ExecuteTime": {
     "end_time": "2024-05-22T11:58:12.888131Z",
     "start_time": "2024-05-22T11:58:12.885410Z"
    }
   },
   "cell_type": "code",
   "source": "urls",
   "id": "b3eb7b5e72367904",
   "outputs": [
    {
     "data": {
      "text/plain": [
       "{'https://tuyensinh.hcmus.edu.vn/th%C3%B4ng-tin-tuy%E1%BB%83n-sinh/phuongthuctuyensinh',\n",
       " 'https://tuyensinh.hcmus.edu.vnhttps://tuyensinh.hcmus.edu.vn/attachments/article/137/TB01_TB XTT_UTXT_Bo 2024_PT1.pdf',\n",
       " 'https://tuyensinh.hcmus.edu.vnhttps://tuyensinh.hcmus.edu.vn/attachments/article/138/TB02_TB UTXTT_UTXT_DHQG 2024_PT2.pdf',\n",
       " 'https://tuyensinh.hcmus.edu.vnhttps://tuyensinh.hcmus.edu.vn/attachments/article/139/TB04_TB xet tuyen DH DGNL 2024_PT4.pdf',\n",
       " 'https://tuyensinh.hcmus.edu.vnhttps://tuyensinh.hcmus.edu.vn/attachments/article/140/TB05_TB xet tuyen KQHT  THPT QT 2024_PT5.pdf',\n",
       " 'https://tuyensinh.hcmus.edu.vnhttps://tuyensinh.hcmus.edu.vn/attachments/article/141/TB03_TB xet tuyen CC NNQT 2024_PT6_update.pdf',\n",
       " 'https://tuyensinh.hcmus.edu.vnhttps://tuyensinh.hcmus.edu.vn/attachments/article/142/ĐỀ ÁN TUYỂN SINH TRÌNH ĐỘ ĐẠI HỌC NĂM 2024.pdf'}"
      ]
     },
     "execution_count": 22,
     "metadata": {},
     "output_type": "execute_result"
    }
   ],
   "execution_count": 22
  }
 ],
 "metadata": {
  "kernelspec": {
   "display_name": "Python 3",
   "language": "python",
   "name": "python3"
  },
  "language_info": {
   "codemirror_mode": {
    "name": "ipython",
    "version": 2
   },
   "file_extension": ".py",
   "mimetype": "text/x-python",
   "name": "python",
   "nbconvert_exporter": "python",
   "pygments_lexer": "ipython2",
   "version": "2.7.6"
  }
 },
 "nbformat": 4,
 "nbformat_minor": 5
}
