{
 "cells": [
  {
   "cell_type": "code",
   "execution_count": null,
   "id": "initial_id",
   "metadata": {
    "ExecuteTime": {
     "end_time": "2024-05-28T21:15:07.041664Z",
     "start_time": "2024-05-28T21:15:06.125223Z"
    },
    "collapsed": true
   },
   "outputs": [],
   "source": [
    "import os\n",
    "from langchain_experimental.text_splitter import SemanticChunker\n",
    "from langchain_community.embeddings import HuggingFaceEmbeddings\n",
    "from langchain_google_genai import GoogleGenerativeAI\n",
    "from langchain_cohere import CohereRerank\n",
    "\n",
    "from vectorstore import VectorStore\n",
    "from rag_chain import RAG_chain\n",
    "from utils import json_to_documents"
   ]
  },
  {
   "cell_type": "code",
   "execution_count": null,
   "id": "912960dda243749d",
   "metadata": {
    "ExecuteTime": {
     "end_time": "2024-05-28T21:15:07.047849Z",
     "start_time": "2024-05-28T21:15:07.042699Z"
    }
   },
   "outputs": [],
   "source": [
    "from dotenv import load_dotenv\n",
    "load_dotenv()"
   ]
  },
  {
   "cell_type": "markdown",
   "id": "6c4654890ffd9bb5",
   "metadata": {},
   "source": [
    "## Test chain"
   ]
  },
  {
   "cell_type": "code",
   "execution_count": null,
   "id": "86f613334f59c02a",
   "metadata": {
    "ExecuteTime": {
     "end_time": "2024-05-28T21:15:08.376065Z",
     "start_time": "2024-05-28T21:15:08.370224Z"
    }
   },
   "outputs": [],
   "source": [
    "docs = json_to_documents('scraper/tmp_docs.json')"
   ]
  },
  {
   "cell_type": "code",
   "execution_count": null,
   "id": "8df625a336871f41",
   "metadata": {
    "ExecuteTime": {
     "end_time": "2024-05-28T21:15:19.145356Z",
     "start_time": "2024-05-28T21:15:08.376839Z"
    }
   },
   "outputs": [],
   "source": [
    "embedding = HuggingFaceEmbeddings(\n",
    "    model_name='bkai-foundation-models/vietnamese-bi-encoder',\n",
    "    cache_folder='/Users/btp712/Code/University Admission Consulting Chatbot/cache',\n",
    "    model_kwargs={'device': 'mps'},\n",
    ")"
   ]
  },
  {
   "cell_type": "code",
   "execution_count": null,
   "id": "352fd03e14ee0281",
   "metadata": {
    "ExecuteTime": {
     "end_time": "2024-05-28T21:15:35.011393Z",
     "start_time": "2024-05-28T21:15:19.146397Z"
    }
   },
   "outputs": [],
   "source": [
    "splitter = SemanticChunker(embedding, breakpoint_threshold_type=\"percentile\")\n",
    "chunks = splitter.split_documents(docs)"
   ]
  },
  {
   "cell_type": "code",
   "execution_count": null,
   "id": "7ddf64cdca6ef61a",
   "metadata": {
    "ExecuteTime": {
     "end_time": "2024-05-28T21:15:36.752038Z",
     "start_time": "2024-05-28T21:15:35.012136Z"
    }
   },
   "outputs": [],
   "source": [
    "vectorstore = VectorStore(embedding)\n",
    "vectorstore.indexing(chunks, source_id_key='source')"
   ]
  },
  {
   "cell_type": "code",
   "execution_count": null,
   "id": "57f103277908c59a",
   "metadata": {
    "ExecuteTime": {
     "end_time": "2024-05-28T21:15:39.763184Z",
     "start_time": "2024-05-28T21:15:36.752715Z"
    }
   },
   "outputs": [],
   "source": [
    "llm = GoogleGenerativeAI(model='gemini-1.5-flash-latest')\n",
    "retriever = vectorstore.get_retriever(k=20)"
   ]
  },
  {
   "cell_type": "code",
   "execution_count": null,
   "id": "dbc1f647",
   "metadata": {},
   "outputs": [],
   "source": [
    "reranker = CohereRerank(cohere_api_key=os.getenv('COHERE_API_KEY'), model='rerank-multilingual-v3.0')"
   ]
  },
  {
   "cell_type": "code",
   "execution_count": null,
   "id": "79c63239e7ecc2e3",
   "metadata": {
    "ExecuteTime": {
     "end_time": "2024-05-28T21:16:31.333764Z",
     "start_time": "2024-05-28T21:15:39.764789Z"
    }
   },
   "outputs": [],
   "source": [
    "chain = RAG_chain(llm=llm, retriever=retriever, reranker=reranker)\n",
    "\n",
    "user_input = None\n",
    "while True:\n",
    "    user_input = input('Input: ')\n",
    "    if user_input == '\\\\exit':\n",
    "        break\n",
    "    print(chain.invoke(user_input))"
   ]
  }
 ],
 "metadata": {
  "kernelspec": {
   "display_name": "Python 3",
   "language": "python",
   "name": "python3"
  },
  "language_info": {
   "codemirror_mode": {
    "name": "ipython",
    "version": 3
   },
   "file_extension": ".py",
   "mimetype": "text/x-python",
   "name": "python",
   "nbconvert_exporter": "python",
   "pygments_lexer": "ipython3",
   "version": "3.12.0"
  }
 },
 "nbformat": 4,
 "nbformat_minor": 5
}
